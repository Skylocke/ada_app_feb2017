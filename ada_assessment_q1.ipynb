{
 "cells": [
  {
   "cell_type": "markdown",
   "metadata": {},
   "source": [
    "ada app assessment\n",
    "\n",
    "q1. Find the month in 2015 where the State of Washington had the largest number of storm events. How many days of storm-free weather occurred in that month?"
   ]
  },
  {
   "cell_type": "code",
   "execution_count": 1,
   "metadata": {
    "collapsed": true
   },
   "outputs": [],
   "source": [
    "import pandas as pd\n",
    "import numpy as np"
   ]
  },
  {
   "cell_type": "code",
   "execution_count": 2,
   "metadata": {
    "collapsed": true
   },
   "outputs": [],
   "source": [
    "storm2000 = pd.read_csv('StormEvents_details-ftp_v1.0_d2000_c20160223.csv')\n",
    "storm2015 = pd.read_csv('StormEvents_details-ftp_v1.0_d2015_c20160810.csv')"
   ]
  },
  {
   "cell_type": "code",
   "execution_count": 3,
   "metadata": {
    "collapsed": false
   },
   "outputs": [
    {
     "name": "stdout",
     "output_type": "stream",
     "text": [
      "Index([u'BEGIN_YEARMONTH', u'BEGIN_DAY', u'BEGIN_TIME', u'END_YEARMONTH',\n",
      "       u'END_DAY', u'END_TIME', u'EPISODE_ID', u'EVENT_ID', u'STATE',\n",
      "       u'STATE_FIPS', u'YEAR', u'MONTH_NAME', u'EVENT_TYPE', u'CZ_TYPE',\n",
      "       u'CZ_FIPS', u'CZ_NAME', u'WFO', u'BEGIN_DATE_TIME', u'CZ_TIMEZONE',\n",
      "       u'END_DATE_TIME', u'INJURIES_DIRECT', u'INJURIES_INDIRECT',\n",
      "       u'DEATHS_DIRECT', u'DEATHS_INDIRECT', u'DAMAGE_PROPERTY',\n",
      "       u'DAMAGE_CROPS', u'SOURCE', u'MAGNITUDE', u'MAGNITUDE_TYPE',\n",
      "       u'FLOOD_CAUSE', u'CATEGORY', u'TOR_F_SCALE', u'TOR_LENGTH',\n",
      "       u'TOR_WIDTH', u'TOR_OTHER_WFO', u'TOR_OTHER_CZ_STATE',\n",
      "       u'TOR_OTHER_CZ_FIPS', u'TOR_OTHER_CZ_NAME', u'BEGIN_RANGE',\n",
      "       u'BEGIN_AZIMUTH', u'BEGIN_LOCATION', u'END_RANGE', u'END_AZIMUTH',\n",
      "       u'END_LOCATION', u'BEGIN_LAT', u'BEGIN_LON', u'END_LAT', u'END_LON',\n",
      "       u'EPISODE_NARRATIVE', u'EVENT_NARRATIVE', u'DATA_SOURCE'],\n",
      "      dtype='object')\n"
     ]
    }
   ],
   "source": [
    "print storm2015.columns #sanity check"
   ]
  },
  {
   "cell_type": "code",
   "execution_count": 4,
   "metadata": {
    "collapsed": false
   },
   "outputs": [
    {
     "name": "stdout",
     "output_type": "stream",
     "text": [
      "547     WASHINGTON\n",
      "548     WASHINGTON\n",
      "1682    WASHINGTON\n",
      "2583    WASHINGTON\n",
      "2584    WASHINGTON\n",
      "Name: STATE, dtype: object\n",
      "57156    WASHINGTON\n",
      "57353    WASHINGTON\n",
      "57354    WASHINGTON\n",
      "57355    WASHINGTON\n",
      "57356    WASHINGTON\n",
      "Name: STATE, dtype: object\n"
     ]
    }
   ],
   "source": [
    "storm2015WA = storm2015.loc[storm2015['STATE'] == 'WASHINGTON']\n",
    "print storm2015WA.STATE.head() #sanity check to ascertain only the state of Washington is saved\n",
    "print storm2015WA.STATE.tail() #sanity check"
   ]
  },
  {
   "cell_type": "code",
   "execution_count": 5,
   "metadata": {
    "collapsed": false
   },
   "outputs": [
    {
     "data": {
      "text/plain": [
       "December     158\n",
       "January      111\n",
       "November      70\n",
       "August        47\n",
       "May           37\n",
       "June          26\n",
       "July          25\n",
       "February      19\n",
       "September     18\n",
       "October       15\n",
       "April          7\n",
       "March          5\n",
       "Name: MONTH_NAME, dtype: int64"
      ]
     },
     "execution_count": 5,
     "metadata": {},
     "output_type": "execute_result"
    }
   ],
   "source": [
    "storm2015WA.MONTH_NAME.value_counts() #greatest number of times listed == greatest number of events\n",
    "#it's December "
   ]
  },
  {
   "cell_type": "code",
   "execution_count": 6,
   "metadata": {
    "collapsed": false
   },
   "outputs": [
    {
     "name": "stdout",
     "output_type": "stream",
     "text": [
      "49516    December\n",
      "49517    December\n",
      "49518    December\n",
      "49519    December\n",
      "49520    December\n",
      "Name: MONTH_NAME, dtype: object\n",
      "57156    December\n",
      "57353    December\n",
      "57354    December\n",
      "57355    December\n",
      "57356    December\n",
      "Name: MONTH_NAME, dtype: object\n"
     ]
    }
   ],
   "source": [
    "storm2015DEC_WA = storm2015WA.loc[storm2015WA['MONTH_NAME'] == 'December']\n",
    "print storm2015DEC_WA.MONTH_NAME.head() #sanity check to ascertain only the month of December is saved\n",
    "print storm2015DEC_WA.MONTH_NAME.tail() #sanity check"
   ]
  },
  {
   "cell_type": "code",
   "execution_count": 7,
   "metadata": {
    "collapsed": false
   },
   "outputs": [
    {
     "name": "stdout",
     "output_type": "stream",
     "text": [
      "       BEGIN_DAY  END_DAY\n",
      "49516          2        3\n",
      "49517          2        3\n",
      "49518          2        3\n",
      "49519          2        3\n",
      "49520          4        5\n",
      "49521          4        5\n",
      "49522          4        5\n",
      "49523          4        5\n",
      "49524          4        5\n",
      "49525          5        6\n",
      "49530         17       18\n",
      "49531         17       18\n",
      "49532         17       18\n",
      "49533         17       18\n",
      "49534         17       18\n",
      "49535         17       18\n",
      "49536         17       18\n",
      "49782          3        3\n",
      "49783          8        8\n",
      "49784         10       10\n",
      "49785         10       10\n",
      "49786         10       10\n",
      "49787         10       10\n",
      "49788         19       20\n",
      "49789         20       20\n",
      "49790         12       12\n",
      "49791         12       12\n",
      "49792         22       22\n",
      "50470         15       16\n",
      "50471         15       16\n",
      "...          ...      ...\n",
      "56480         21       21\n",
      "56481         21       21\n",
      "56485         10       10\n",
      "56486          1        2\n",
      "56487          1        2\n",
      "56492         12       12\n",
      "56513         10       10\n",
      "56514         10       10\n",
      "56518         22       23\n",
      "56519          7        7\n",
      "56520          7        7\n",
      "56524         21       21\n",
      "56525         21       21\n",
      "56526         21       21\n",
      "56527         21       21\n",
      "56531         10       11\n",
      "56542          5        5\n",
      "56543          5        5\n",
      "56668          9       10\n",
      "56677          8        9\n",
      "56678          8        9\n",
      "56739          8        9\n",
      "57153          1        2\n",
      "57154          2        3\n",
      "57155          2        3\n",
      "57156         17       17\n",
      "57353         17       17\n",
      "57354         22       24\n",
      "57355         22       24\n",
      "57356         22       24\n",
      "\n",
      "[158 rows x 2 columns]\n"
     ]
    }
   ],
   "source": [
    "storm_days = storm2015DEC_WA[['BEGIN_DAY', 'END_DAY']]\n",
    "\n",
    "print storm_days #data at a glance"
   ]
  },
  {
   "cell_type": "code",
   "execution_count": 8,
   "metadata": {
    "collapsed": false
   },
   "outputs": [
    {
     "name": "stdout",
     "output_type": "stream",
     "text": [
      "       BEGIN_DAY  END_DAY\n",
      "49516          2        3\n",
      "49520          4        5\n",
      "49525          5        6\n",
      "49530         17       18\n",
      "49782          3        3\n",
      "49783          8        8\n",
      "49784         10       10\n",
      "49788         19       20\n",
      "49789         20       20\n",
      "49790         12       12\n",
      "49792         22       22\n",
      "50470         15       16\n",
      "50477         21       22\n",
      "52828          8        9\n",
      "52829          9        9\n",
      "53343         17       17\n",
      "54055         12       13\n",
      "54062          5        5\n",
      "54063          6        6\n",
      "54693         20       21\n",
      "54761         21       21\n",
      "55110         22       23\n",
      "55114         23       24\n",
      "55316         23       23\n",
      "55973         13       13\n",
      "56449          6        7\n",
      "56455          7        7\n",
      "56486          1        2\n",
      "56531         10       11\n",
      "56668          9       10\n",
      "57354         22       24\n"
     ]
    }
   ],
   "source": [
    "#begin_day is one day, end_day (if different from begin_day) is another day\n",
    "#some repetition of listed days occur, can drop duplicates to narrow down days with storms\n",
    "#number of days with storm per event = end_day - begin_day + 1\n",
    "\n",
    "#storm_days.duplicated() #see which ones are duplicates before dropping them\n",
    "storm_days_cleaned = storm_days.drop_duplicates()\n",
    "print storm_days_cleaned"
   ]
  },
  {
   "cell_type": "code",
   "execution_count": 9,
   "metadata": {
    "collapsed": false
   },
   "outputs": [
    {
     "name": "stdout",
     "output_type": "stream",
     "text": [
      "       BEGIN_DAY  END_DAY\n",
      "56486          1        2\n",
      "49516          2        3\n",
      "49782          3        3\n",
      "49520          4        5\n",
      "54062          5        5\n",
      "49525          5        6\n",
      "54063          6        6\n",
      "56449          6        7\n",
      "56455          7        7\n",
      "49783          8        8\n",
      "52828          8        9\n",
      "52829          9        9\n",
      "56668          9       10\n",
      "49784         10       10\n",
      "56531         10       11\n",
      "49790         12       12\n",
      "54055         12       13\n",
      "55973         13       13\n",
      "50470         15       16\n",
      "53343         17       17\n",
      "49530         17       18\n",
      "49788         19       20\n",
      "49789         20       20\n",
      "54693         20       21\n",
      "54761         21       21\n",
      "50477         21       22\n",
      "49792         22       22\n",
      "55110         22       23\n",
      "57354         22       24\n",
      "55316         23       23\n",
      "55114         23       24\n"
     ]
    }
   ],
   "source": [
    "storm_days_sorted = storm_days_cleaned.sort_values(['BEGIN_DAY', 'END_DAY'], axis=0, ascending=True)\n",
    "#sort data first by BEGIN_DAY and then by END_DAY\n",
    "print storm_days_sorted"
   ]
  },
  {
   "cell_type": "code",
   "execution_count": 10,
   "metadata": {
    "collapsed": false
   },
   "outputs": [
    {
     "data": {
      "text/plain": [
       "8"
      ]
     },
     "execution_count": 10,
     "metadata": {},
     "output_type": "execute_result"
    }
   ],
   "source": [
    "#count the days accounting for repeated days and days skipped\n",
    "#sanity check via hand count:\n",
    "#days 1-24 are listed except for 14; therefore there are 23 days noted in the data\n",
    "#and therefore there are 31 - 23 = 8 storm-free days\n",
    "\n",
    "#initialize empty list of storm days\n",
    "storming = []\n",
    "\n",
    "#loop through listed December events\n",
    "for index, row in storm_days_sorted.iterrows():\n",
    "    #extend list with each set of np.arange('BEGIN_DAY', 'END_DAY' + 1)\n",
    "    storming.extend(np.arange(storm_days_sorted.loc[index, 'BEGIN_DAY'], storm_days.loc[index, 'END_DAY']+1))      \n",
    "\n",
    "#December has 31 days. Subtract the number of storming days to get storm-free days.\n",
    "31 - len(set(storming)) #taking the set of the list removes duplicates\n"
   ]
  }
 ],
 "metadata": {
  "anaconda-cloud": {},
  "kernelspec": {
   "display_name": "Python [Root]",
   "language": "python",
   "name": "Python [Root]"
  },
  "language_info": {
   "codemirror_mode": {
    "name": "ipython",
    "version": 2
   },
   "file_extension": ".py",
   "mimetype": "text/x-python",
   "name": "python",
   "nbconvert_exporter": "python",
   "pygments_lexer": "ipython2",
   "version": "2.7.12"
  }
 },
 "nbformat": 4,
 "nbformat_minor": 0
}
