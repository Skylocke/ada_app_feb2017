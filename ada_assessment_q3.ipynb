{
 "cells": [
  {
   "cell_type": "markdown",
   "metadata": {},
   "source": [
    "ada app assessment\n",
    "\n",
    "q3. In which year (2000 or 2015) did storms have a higher monetary impact within the boundaries of the 13 original colonies?"
   ]
  },
  {
   "cell_type": "code",
   "execution_count": 1,
   "metadata": {
    "collapsed": true
   },
   "outputs": [],
   "source": [
    "import pandas as pd\n",
    "import numpy as np\n",
    "storm2000 = pd.read_csv('StormEvents_details-ftp_v1.0_d2000_c20160223.csv')\n",
    "storm2015 = pd.read_csv('StormEvents_details-ftp_v1.0_d2015_c20160810.csv')"
   ]
  },
  {
   "cell_type": "code",
   "execution_count": 2,
   "metadata": {
    "collapsed": false
   },
   "outputs": [
    {
     "name": "stdout",
     "output_type": "stream",
     "text": [
      "0    NaN\n",
      "1    NaN\n",
      "2    NaN\n",
      "3    NaN\n",
      "4     2K\n",
      "Name: DAMAGE_PROPERTY, dtype: object\n",
      "52002    NaN\n",
      "52003    NaN\n",
      "52004    NaN\n",
      "52005    NaN\n",
      "52006    NaN\n",
      "Name: DAMAGE_PROPERTY, dtype: object\n",
      "0    0.00K\n",
      "1    0.00K\n",
      "2    0.00K\n",
      "3    0.00K\n",
      "4    0.00K\n",
      "Name: DAMAGE_PROPERTY, dtype: object\n",
      "57516      0.00K\n",
      "57517     39.00K\n",
      "57518      0.00K\n",
      "57519    500.00K\n",
      "57520      0.00K\n",
      "Name: DAMAGE_PROPERTY, dtype: object\n"
     ]
    }
   ],
   "source": [
    "print storm2000['DAMAGE_PROPERTY'].head() #sanity check\n",
    "print storm2000['DAMAGE_PROPERTY'].tail()\n",
    "print storm2015['DAMAGE_PROPERTY'].head()\n",
    "print storm2015['DAMAGE_PROPERTY'].tail()"
   ]
  },
  {
   "cell_type": "code",
   "execution_count": 3,
   "metadata": {
    "collapsed": false
   },
   "outputs": [],
   "source": [
    "#original thirteen colonies (copy-pasta'd from Wikipedia):\n",
    "#Delaware, Pennsylvania, New Jersey, Georgia, Connecticut, Massachusetts Bay, Maryland, \n",
    "#South Carolina, New Hampshire, Virginia, New York, North Carolina, and Rhode Island\n",
    "\n",
    "#if I wanted to use STATE = ...\n",
    "thirteen = ['DELAWARE', 'PENNSYLVANIA', 'NEW JERSEY', 'GEORGIA', \\\n",
    "            'CONNECTICUT', 'MASSACHUSETTS', 'MARYLAND', 'SOUTH CAROLINA', \\\n",
    "            'NEW HAMPSHIRE', 'VIRGINIA', 'NEW YORK', 'NORTH CAROLINA', 'RHODE ISLAND']\n",
    "\n",
    "#yeah, but do I want to be more accurate and go with whatever\n",
    "#STATE_FIPS and CZ_FIPS lies within the Proclamation Line of 1763?\n",
    "#\n",
    "#\n",
    "#... naaaaaaah.\n",
    "\n",
    "\n",
    "def filterdf(df, feature, values):\n",
    "    '''filters out out dataframe rows based on multiple values and appending them together'''\n",
    "    df_new = pd.DataFrame()\n",
    "    for thing in values:\n",
    "        df_new = df_new.append(df[df[feature] == thing])\n",
    "    return df_new\n",
    "        \n",
    "storm2000_13 = filterdf(storm2000, 'STATE', thirteen)\n",
    "storm2015_13 = filterdf(storm2015, 'STATE', thirteen)"
   ]
  },
  {
   "cell_type": "code",
   "execution_count": 4,
   "metadata": {
    "collapsed": false
   },
   "outputs": [
    {
     "name": "stdout",
     "output_type": "stream",
     "text": [
      "129    NaN\n",
      "182    NaN\n",
      "226    NaN\n",
      "227    NaN\n",
      "335    NaN\n",
      "Name: DAMAGE_PROPERTY, dtype: object\n",
      "50895    NaN\n",
      "50984    NaN\n",
      "50985    NaN\n",
      "51070    NaN\n",
      "51071    NaN\n",
      "Name: DAMAGE_PROPERTY, dtype: object\n",
      "4332     0.00K\n",
      "4333     0.00K\n",
      "4334    30.00K\n",
      "4583     0.00K\n",
      "4584     0.00K\n",
      "Name: DAMAGE_PROPERTY, dtype: object\n",
      "42300    30.00K\n",
      "45048     5.00K\n",
      "45049    10.00K\n",
      "45385     1.00K\n",
      "47306     5.00K\n",
      "Name: DAMAGE_PROPERTY, dtype: object\n"
     ]
    }
   ],
   "source": [
    "print storm2000_13['DAMAGE_PROPERTY'].head() #sanity check\n",
    "print storm2000_13['DAMAGE_PROPERTY'].tail()\n",
    "print storm2015_13['DAMAGE_PROPERTY'].head()\n",
    "print storm2015_13['DAMAGE_PROPERTY'].tail()"
   ]
  },
  {
   "cell_type": "code",
   "execution_count": 5,
   "metadata": {
    "collapsed": false
   },
   "outputs": [
    {
     "ename": "SyntaxError",
     "evalue": "invalid syntax (<ipython-input-5-b6440ce88d51>, line 9)",
     "output_type": "error",
     "traceback": [
      "\u001b[1;36m  File \u001b[1;32m\"<ipython-input-5-b6440ce88d51>\"\u001b[1;36m, line \u001b[1;32m9\u001b[0m\n\u001b[1;33m    ('''converts, individual, strings, to, float, equivalent'''/)\u001b[0m\n\u001b[1;37m                                                                ^\u001b[0m\n\u001b[1;31mSyntaxError\u001b[0m\u001b[1;31m:\u001b[0m invalid syntax\n"
     ]
    }
   ],
   "source": [
    "#DAMAGE_PROPERTY and DAMAGE_CROPS are strings that aren't traditionally formatted as an int or float\n",
    "#so they need to be converted based on what the string has (K = 1000, M = 1000000, B = 1000000000)\n",
    "\n",
    "#read the last char of a string to see if it's K, M, or B (while accounting for lack of a letter)\n",
    "#multiply the rest of the string (which should be a number) by the letter's corresponding value\n",
    "#create new features from these conversions and then sum them up\n",
    "\n",
    "def convertformat(numberstring):\n",
    "    '''converts individual strings to float equivalent'''\n",
    "    if not numberstring: #empty string\n",
    "        return 0\n",
    "    elif numberstring[-1].upper() == 'K': #multiplier for one thousand\n",
    "        return float(numberstring[0:-1]) * 1000\n",
    "    elif numberstring[-1].upper() == 'M': #multiplier for one million\n",
    "        return float(numberstring[0:-1]) * 1000000\n",
    "    elif numberstring[-1].upper() == 'B': #multiplier for one billion\n",
    "        return float(numberstring[0:-1]) * 1000000000\n",
    "    else: #no multiplier\n",
    "        return numberstring \n",
    "\n",
    "#test\n",
    "print convertformat('0.3k')\n",
    "print convertformat('3.42M')\n",
    "print convertformat('23b')\n",
    "print convertformat('0')\n",
    "print convertformat('4')\n",
    "print convertformat('')"
   ]
  },
  {
   "cell_type": "code",
   "execution_count": null,
   "metadata": {
    "collapsed": false
   },
   "outputs": [],
   "source": [
    "def convertcolumn(df, oldfeature, newfeature):\n",
    "    '''runs values in column through convertformat and returns resulting new column'''\n",
    "    df[oldfeature] = df[oldfeature].fillna(value='0')\n",
    "    df[newfeature] = [convertformat(entry) for entry in df[oldfeature]]\n",
    "    \n",
    "#convertcolumn(storm2000_13, 'DAMAGE_PROPERTY', 'DP_new')\n",
    "\n",
    "convertcolumn(storm2000_13, 'DAMAGE_PROPERTY', 'DP_new')\n",
    "convertcolumn(storm2015_13, 'DAMAGE_PROPERTY', 'DP_new')\n",
    "convertcolumn(storm2000_13, 'DAMAGE_CROPS', 'DC_new')\n",
    "convertcolumn(storm2015_13, 'DAMAGE_CROPS', 'DC_new')\n",
    "\n",
    "#storm2000_13['DP_new'] = [str(entry)+'2'  for entry in storm2000_13['DAMAGE_PROPERTY']]\n",
    "\n",
    "#storm2000_13['DAMAGE_PROPERTY'] = storm2000_13['DAMAGE_PROPERTY'].fillna(value='0')\n",
    "#storm2000_13['DP_new'] = [convertformat(entry) for entry in storm2000_13['DAMAGE_PROPERTY']]"
   ]
  },
  {
   "cell_type": "code",
   "execution_count": null,
   "metadata": {
    "collapsed": false
   },
   "outputs": [],
   "source": [
    "print storm2000_13['DP_new'].head() #sanity check\n",
    "print storm2000_13['DP_new'].tail()\n",
    "print storm2015_13['DP_new'].head()\n",
    "print storm2015_13['DP_new'].tail()"
   ]
  },
  {
   "cell_type": "code",
   "execution_count": null,
   "metadata": {
    "collapsed": false
   },
   "outputs": [],
   "source": [
    "print pd.to_numeric(storm2000_13['DP_new'], errors='coerce').sum() + pd.to_numeric(storm2000_13['DC_new'], errors='coerce').sum()\n",
    "print pd.to_numeric(storm2015_13['DP_new'], errors='coerce').sum() + pd.to_numeric(storm2015_13['DC_new'], errors='coerce').sum()\n",
    "#the year 2000 experienced greater financial damage from storms than the year 2015"
   ]
  }
 ],
 "metadata": {
  "kernelspec": {
   "display_name": "Python 2",
   "language": "python",
   "name": "python2"
  },
  "language_info": {
   "codemirror_mode": {
    "name": "ipython",
    "version": 2
   },
   "file_extension": ".py",
   "mimetype": "text/x-python",
   "name": "python",
   "nbconvert_exporter": "python",
   "pygments_lexer": "ipython2",
   "version": "2.7.11"
  }
 },
 "nbformat": 4,
 "nbformat_minor": 0
}
