{
 "cells": [
  {
   "cell_type": "markdown",
   "metadata": {},
   "source": [
    "ada app assessment\n",
    "\n",
    "q3. In which year (2000 or 2015) did storms have a higher monetary impact within the boundaries of the 13 original colonies?"
   ]
  },
  {
   "cell_type": "code",
   "execution_count": 1,
   "metadata": {
    "collapsed": true
   },
   "outputs": [],
   "source": [
    "import pandas as pd\n",
    "import numpy as np\n",
    "storm2000 = pd.read_csv('StormEvents_details-ftp_v1.0_d2000_c20160223.csv')\n",
    "storm2015 = pd.read_csv('StormEvents_details-ftp_v1.0_d2015_c20160810.csv')"
   ]
  },
  {
   "cell_type": "code",
   "execution_count": null,
   "metadata": {
    "collapsed": true
   },
   "outputs": [],
   "source": []
  }
 ],
 "metadata": {
  "kernelspec": {
   "display_name": "Python [Root]",
   "language": "python",
   "name": "Python [Root]"
  },
  "language_info": {
   "codemirror_mode": {
    "name": "ipython",
    "version": 2
   },
   "file_extension": ".py",
   "mimetype": "text/x-python",
   "name": "python",
   "nbconvert_exporter": "python",
   "pygments_lexer": "ipython2",
   "version": "2.7.12"
  }
 },
 "nbformat": 4,
 "nbformat_minor": 0
}
